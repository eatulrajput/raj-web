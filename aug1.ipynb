{
 "cells": [
  {
   "cell_type": "code",
   "execution_count": 2,
   "metadata": {},
   "outputs": [
    {
     "name": "stdout",
     "output_type": "stream",
     "text": [
      "71.3\n",
      "77.0\n",
      "ModeResult(mode=np.int64(48), count=np.int64(2))\n"
     ]
    }
   ],
   "source": [
    "import pandas as pd\n",
    "import numpy\n",
    "from scipy import stats\n",
    "\n",
    "dataframe = pd.DataFrame({'value':[90, 50, 86, 87, 42, 48,48, 68, 92, 102], 'weight':[4, 2, 3, 5,6, 5, 5, 3,7, 5]})\n",
    "\n",
    "x=numpy.mean(dataframe.value)\n",
    "y=numpy.median(dataframe.value)\n",
    "z=stats.mode(dataframe.value)\n",
    "print(x)\n",
    "print(y)\n",
    "print(z)"
   ]
  },
  {
   "cell_type": "code",
   "execution_count": 4,
   "metadata": {},
   "outputs": [
    {
     "name": "stdout",
     "output_type": "stream",
     "text": [
      "71.3\n",
      "77.0\n",
      "ModeResult(mode=np.int64(48), count=np.int64(2))\n"
     ]
    },
    {
     "data": {
      "text/plain": [
       "np.float64(72.06666666666666)"
      ]
     },
     "execution_count": 4,
     "metadata": {},
     "output_type": "execute_result"
    }
   ],
   "source": [
    "import pandas as pd\n",
    "import numpy\n",
    "from scipy import stats\n",
    "\n",
    "dataframe = pd.DataFrame({'value':[90, 50, 86, 87, 42, 48,48, 68, 92, 102], 'weight':[4, 2, 3, 5,6, 5, 5, 3,7, 5]})\n",
    "\n",
    "x=numpy.mean(dataframe.value)\n",
    "y=numpy.median(dataframe.value)\n",
    "z=stats.mode(dataframe.value)\n",
    "print(x)\n",
    "print(y)\n",
    "print(z)\n",
    "\n",
    "def weighted_average(dataframe, value, weight):\n",
    "    value = dataframe[value]\n",
    "    weight = dataframe[weight]\n",
    "    return (value*weight).sum()/weight.sum()\n",
    "\n",
    "weighted_average(dataframe,'value','weight')\n"
   ]
  },
  {
   "cell_type": "markdown",
   "metadata": {},
   "source": [
    "Assignment: Write a program to calculate median of a dataset."
   ]
  }
 ],
 "metadata": {
  "kernelspec": {
   "display_name": "Python 3",
   "language": "python",
   "name": "python3"
  },
  "language_info": {
   "codemirror_mode": {
    "name": "ipython",
    "version": 3
   },
   "file_extension": ".py",
   "mimetype": "text/x-python",
   "name": "python",
   "nbconvert_exporter": "python",
   "pygments_lexer": "ipython3",
   "version": "3.12.4"
  }
 },
 "nbformat": 4,
 "nbformat_minor": 2
}
